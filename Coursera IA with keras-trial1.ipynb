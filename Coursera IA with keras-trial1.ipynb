{
    "cells": [
        {
            "cell_type": "code",
            "execution_count": 170,
            "metadata": {},
            "outputs": [
                {
                    "name": "stdout",
                    "output_type": "stream",
                    "text": "Requirement already satisfied: numpy==1.21.4 in /opt/conda/envs/Python-3.8-main/lib/python3.8/site-packages (1.21.4)\nRequirement already satisfied: pandas==1.3.4 in /opt/conda/envs/Python-3.8-main/lib/python3.8/site-packages (1.3.4)\nRequirement already satisfied: numpy>=1.17.3 in /opt/conda/envs/Python-3.8-main/lib/python3.8/site-packages (from pandas==1.3.4) (1.21.4)\nRequirement already satisfied: python-dateutil>=2.7.3 in /opt/conda/envs/Python-3.8-main/lib/python3.8/site-packages (from pandas==1.3.4) (2.8.1)\nRequirement already satisfied: pytz>=2017.3 in /opt/conda/envs/Python-3.8-main/lib/python3.8/site-packages (from pandas==1.3.4) (2021.1)\nRequirement already satisfied: six>=1.5 in /opt/conda/envs/Python-3.8-main/lib/python3.8/site-packages (from python-dateutil>=2.7.3->pandas==1.3.4) (1.15.0)\nRequirement already satisfied: keras==2.1.6 in /opt/conda/envs/Python-3.8-main/lib/python3.8/site-packages (2.1.6)\nRequirement already satisfied: numpy>=1.9.1 in /opt/conda/envs/Python-3.8-main/lib/python3.8/site-packages (from keras==2.1.6) (1.21.4)\nRequirement already satisfied: scipy>=0.14 in /opt/conda/envs/Python-3.8-main/lib/python3.8/site-packages (from keras==2.1.6) (1.4.1)\nRequirement already satisfied: h5py in /opt/conda/envs/Python-3.8-main/lib/python3.8/site-packages (from keras==2.1.6) (2.10.0)\nRequirement already satisfied: pyyaml in /opt/conda/envs/Python-3.8-main/lib/python3.8/site-packages (from keras==2.1.6) (5.4.1)\nRequirement already satisfied: six>=1.9.0 in /opt/conda/envs/Python-3.8-main/lib/python3.8/site-packages (from keras==2.1.6) (1.15.0)\n"
                }
            ],
            "source": "!pip install numpy==1.21.4\n!pip install pandas==1.3.4\n!pip install keras==2.1.6"
        },
        {
            "cell_type": "code",
            "execution_count": 171,
            "metadata": {},
            "outputs": [],
            "source": "\nimport keras\n\nfrom tensorflow.keras.models import Sequential\nfrom tensorflow.keras.layers import Dense\nfrom tensorflow.keras import backend\nfrom sklearn.model_selection import train_test_split\n"
        },
        {
            "cell_type": "code",
            "execution_count": 172,
            "metadata": {},
            "outputs": [
                {
                    "data": {
                        "text/html": "<div>\n<style scoped>\n    .dataframe tbody tr th:only-of-type {\n        vertical-align: middle;\n    }\n\n    .dataframe tbody tr th {\n        vertical-align: top;\n    }\n\n    .dataframe thead th {\n        text-align: right;\n    }\n</style>\n<table border=\"1\" class=\"dataframe\">\n  <thead>\n    <tr style=\"text-align: right;\">\n      <th></th>\n      <th>Cement</th>\n      <th>Blast Furnace Slag</th>\n      <th>Fly Ash</th>\n      <th>Water</th>\n      <th>Superplasticizer</th>\n      <th>Coarse Aggregate</th>\n      <th>Fine Aggregate</th>\n      <th>Age</th>\n      <th>Strength</th>\n    </tr>\n  </thead>\n  <tbody>\n    <tr>\n      <th>0</th>\n      <td>540.0</td>\n      <td>0.0</td>\n      <td>0.0</td>\n      <td>162.0</td>\n      <td>2.5</td>\n      <td>1040.0</td>\n      <td>676.0</td>\n      <td>28</td>\n      <td>79.99</td>\n    </tr>\n    <tr>\n      <th>1</th>\n      <td>540.0</td>\n      <td>0.0</td>\n      <td>0.0</td>\n      <td>162.0</td>\n      <td>2.5</td>\n      <td>1055.0</td>\n      <td>676.0</td>\n      <td>28</td>\n      <td>61.89</td>\n    </tr>\n    <tr>\n      <th>2</th>\n      <td>332.5</td>\n      <td>142.5</td>\n      <td>0.0</td>\n      <td>228.0</td>\n      <td>0.0</td>\n      <td>932.0</td>\n      <td>594.0</td>\n      <td>270</td>\n      <td>40.27</td>\n    </tr>\n    <tr>\n      <th>3</th>\n      <td>332.5</td>\n      <td>142.5</td>\n      <td>0.0</td>\n      <td>228.0</td>\n      <td>0.0</td>\n      <td>932.0</td>\n      <td>594.0</td>\n      <td>365</td>\n      <td>41.05</td>\n    </tr>\n    <tr>\n      <th>4</th>\n      <td>198.6</td>\n      <td>132.4</td>\n      <td>0.0</td>\n      <td>192.0</td>\n      <td>0.0</td>\n      <td>978.4</td>\n      <td>825.5</td>\n      <td>360</td>\n      <td>44.30</td>\n    </tr>\n  </tbody>\n</table>\n</div>",
                        "text/plain": "   Cement  Blast Furnace Slag  Fly Ash  Water  Superplasticizer  \\\n0   540.0                 0.0      0.0  162.0               2.5   \n1   540.0                 0.0      0.0  162.0               2.5   \n2   332.5               142.5      0.0  228.0               0.0   \n3   332.5               142.5      0.0  228.0               0.0   \n4   198.6               132.4      0.0  192.0               0.0   \n\n   Coarse Aggregate  Fine Aggregate  Age  Strength  \n0            1040.0           676.0   28     79.99  \n1            1055.0           676.0   28     61.89  \n2             932.0           594.0  270     40.27  \n3             932.0           594.0  365     41.05  \n4             978.4           825.5  360     44.30  "
                    },
                    "execution_count": 172,
                    "metadata": {},
                    "output_type": "execute_result"
                }
            ],
            "source": "# The code was removed by Watson Studio for sharing."
        },
        {
            "cell_type": "markdown",
            "metadata": {},
            "source": "# Part A"
        },
        {
            "cell_type": "code",
            "execution_count": 173,
            "metadata": {},
            "outputs": [],
            "source": "#define dependient and independient variables\nx=df_data.loc[:, df_data.columns != 'Strength']\ny=df_data[['Strength']]"
        },
        {
            "cell_type": "code",
            "execution_count": 174,
            "metadata": {},
            "outputs": [],
            "source": "# Model definition\nn_cols = x.shape[1] # number of predictors\n\ndef model_setup(n_hiden):\n    # create model\n    model = Sequential()\n    model.add(Dense(n_hiden, activation='relu', input_shape=(n_cols,)))\n    model.add(Dense(1))\n    \n    # compile model\n    model.compile(optimizer='adam', loss='mean_squared_error')\n    return model\n"
        },
        {
            "cell_type": "code",
            "execution_count": 175,
            "metadata": {},
            "outputs": [
                {
                    "name": "stdout",
                    "output_type": "stream",
                    "text": "Error at the 1 iteraction is:3955.857666015625\nError at the 2 iteraction is:142.21685791015625\nError at the 3 iteraction is:176.62820434570312\nError at the 4 iteraction is:107.28694152832031\nError at the 5 iteraction is:502.33782958984375\nError at the 6 iteraction is:115.11624908447266\nError at the 7 iteraction is:1549.062744140625\nError at the 8 iteraction is:381.2129211425781\nError at the 9 iteraction is:239.5638427734375\nError at the 10 iteraction is:116.04701232910156\nError at the 11 iteraction is:127.85179901123047\nError at the 12 iteraction is:433.7951965332031\nError at the 13 iteraction is:166.83499145507812\nError at the 14 iteraction is:156.3390350341797\nError at the 15 iteraction is:371.5335388183594\nError at the 16 iteraction is:286.77020263671875\nError at the 17 iteraction is:1242.8170166015625\nError at the 18 iteraction is:295.0926513671875\nError at the 19 iteraction is:2483.35546875\nError at the 20 iteraction is:251.24868774414062\nError at the 21 iteraction is:189.15281677246094\nError at the 22 iteraction is:120.70685577392578\nError at the 23 iteraction is:299.7453918457031\nError at the 24 iteraction is:131.35482788085938\nError at the 25 iteraction is:121.35488891601562\nError at the 26 iteraction is:239.79176330566406\nError at the 27 iteraction is:289.2335205078125\nError at the 28 iteraction is:139.16639709472656\nError at the 29 iteraction is:199.80296325683594\nError at the 30 iteraction is:240.02598571777344\nError at the 31 iteraction is:122.30834197998047\nError at the 32 iteraction is:379.2185363769531\nError at the 33 iteraction is:271.8253173828125\nError at the 34 iteraction is:322.38134765625\nError at the 35 iteraction is:185.15447998046875\nError at the 36 iteraction is:854.4918823242188\nError at the 37 iteraction is:593.7294921875\nError at the 38 iteraction is:222.07289123535156\nError at the 39 iteraction is:1470.4986572265625\nError at the 40 iteraction is:266.3669128417969\nError at the 41 iteraction is:130.46279907226562\nError at the 42 iteraction is:1207.6580810546875\nError at the 43 iteraction is:100.88761138916016\nError at the 44 iteraction is:126.17083740234375\nError at the 45 iteraction is:1341.9493408203125\nError at the 46 iteraction is:154.1703643798828\nError at the 47 iteraction is:678.3082885742188\nError at the 48 iteraction is:223.54595947265625\nError at the 49 iteraction is:223.44400024414062\nError at the 50 iteraction is:241.972412109375\n"
                }
            ],
            "source": "#initialize model\nerr_list=[]\nfor i in range(0,50):\n    x_train, x_test, y_train, y_test = train_test_split(x, y, test_size=0.3)\n    model=model_setup(10)\n    model.fit(x_train, y_train, validation_data=(x_test, y_test), epochs=50,verbose=0)\n    err=model.evaluate(x_test,y_test,verbose=0)\n    err_list.append(err)\n    print(\"Error at the {} iteraction is:{}\".format(i+1,err))"
        },
        {
            "cell_type": "code",
            "execution_count": 176,
            "metadata": {},
            "outputs": [
                {
                    "name": "stdout",
                    "output_type": "stream",
                    "text": "Mean and Standar Deviation of the Mean Squared Error are: 483.7584364318848 and 690.1943545150616\n"
                }
            ],
            "source": "from statistics import mean,stdev\nprint(\"Mean and Standar Deviation of the Mean Squared Error are:\",mean(err_list),\"and\",stdev(err_list))"
        },
        {
            "cell_type": "markdown",
            "metadata": {},
            "source": "# Part B\n"
        },
        {
            "cell_type": "code",
            "execution_count": 188,
            "metadata": {},
            "outputs": [],
            "source": "#define dependient and independient variables\nx=df_data.loc[:, df_data.columns != 'Strength']\ny=df_data[['Strength']]\nx=(x-x.mean())/x.std()\ny=(y-y.mean())/y.std()"
        },
        {
            "cell_type": "code",
            "execution_count": 189,
            "metadata": {},
            "outputs": [],
            "source": "# Model definition\nn_cols = x.shape[1] # number of predictors\n\ndef model_setup(n_hiden):\n    # create model\n    model = Sequential()\n    model.add(Dense(n_hiden, activation='relu', input_shape=(n_cols,)))\n    model.add(Dense(1))\n    \n    # compile model\n    model.compile(optimizer='adam', loss='mean_squared_error')\n    return model\n"
        },
        {
            "cell_type": "code",
            "execution_count": 190,
            "metadata": {},
            "outputs": [
                {
                    "name": "stdout",
                    "output_type": "stream",
                    "text": "Error at the 1 iteraction is:0.20279771089553833\nError at the 2 iteraction is:0.22048233449459076\nError at the 3 iteraction is:0.21896137297153473\nError at the 4 iteraction is:0.22039459645748138\nError at the 5 iteraction is:0.2968469262123108\nError at the 6 iteraction is:0.21248184144496918\nError at the 7 iteraction is:0.23192960023880005\nError at the 8 iteraction is:0.20386575162410736\nError at the 9 iteraction is:0.1931946724653244\nError at the 10 iteraction is:0.21867753565311432\nError at the 11 iteraction is:0.2844799757003784\nError at the 12 iteraction is:0.3252270519733429\nError at the 13 iteraction is:0.24550099670886993\nError at the 14 iteraction is:0.2511373460292816\nError at the 15 iteraction is:0.22898289561271667\nError at the 16 iteraction is:0.24390776455402374\nError at the 17 iteraction is:0.2415924370288849\nError at the 18 iteraction is:0.293151319026947\nError at the 19 iteraction is:0.22142347693443298\nError at the 20 iteraction is:0.23501399159431458\nError at the 21 iteraction is:0.26716148853302\nError at the 22 iteraction is:0.211839959025383\nError at the 23 iteraction is:0.1896055042743683\nError at the 24 iteraction is:0.22983978688716888\nError at the 25 iteraction is:0.217584028840065\nError at the 26 iteraction is:0.2745307385921478\nError at the 27 iteraction is:0.22117294371128082\nError at the 28 iteraction is:0.25137948989868164\nError at the 29 iteraction is:0.26880931854248047\nError at the 30 iteraction is:0.25773853063583374\nError at the 31 iteraction is:0.2205224186182022\nError at the 32 iteraction is:0.30505600571632385\nError at the 33 iteraction is:0.3213341236114502\nError at the 34 iteraction is:0.19644591212272644\nError at the 35 iteraction is:0.29807016253471375\nError at the 36 iteraction is:0.2751394212245941\nError at the 37 iteraction is:0.2176755666732788\nError at the 38 iteraction is:0.23216351866722107\nError at the 39 iteraction is:0.23920853435993195\nError at the 40 iteraction is:0.20216591656208038\nError at the 41 iteraction is:0.2184087038040161\nError at the 42 iteraction is:0.1963626742362976\nError at the 43 iteraction is:0.20845824480056763\nError at the 44 iteraction is:0.26384955644607544\nError at the 45 iteraction is:0.2627888023853302\nError at the 46 iteraction is:0.28205275535583496\nError at the 47 iteraction is:0.2987688183784485\nError at the 48 iteraction is:0.3214307725429535\nError at the 49 iteraction is:0.2098810076713562\nError at the 50 iteraction is:0.24888499081134796\n"
                }
            ],
            "source": "#initialize model\nerr_list=[]\nfor i in range(0,50):\n    x_train, x_test, y_train, y_test = train_test_split(x, y, test_size=0.3)\n    model=model_setup(10)\n    model.fit(x_train, y_train, validation_data=(x_test, y_test), epochs=50,verbose=0)\n    err=model.evaluate(x_test,y_test,verbose=0)\n    err_list.append(err)\n    print(\"Error at the {} iteraction is:{}\".format(i+1,err))"
        },
        {
            "cell_type": "code",
            "execution_count": 192,
            "metadata": {},
            "outputs": [
                {
                    "name": "stdout",
                    "output_type": "stream",
                    "text": "Mean and Standar Deviation of the Mean Squared Error are: 0.24396758586168288 and 0.036992222222568545\nWhen x and y data normalized error can be undertood in term of % error. Without normalization we can not know how much values differ between each other\n"
                }
            ],
            "source": "from statistics import mean,stdev\nprint(\"Mean and Standar Deviation of the Mean Squared Error are:\",mean(err_list),\"and\",stdev(err_list))\nprint(\"When x and y data normalized error can be undertood in term of % error. Without normalization we can not know how much values differ between each other\")"
        },
        {
            "cell_type": "markdown",
            "metadata": {},
            "source": "# Part C"
        },
        {
            "cell_type": "code",
            "execution_count": 193,
            "metadata": {},
            "outputs": [
                {
                    "name": "stdout",
                    "output_type": "stream",
                    "text": "Error at the 1 iteraction is:0.19616752862930298\nError at the 2 iteraction is:0.146202951669693\nError at the 3 iteraction is:0.1714555323123932\nError at the 4 iteraction is:0.20346610248088837\nError at the 5 iteraction is:0.1708381623029709\nError at the 6 iteraction is:0.16873349249362946\nError at the 7 iteraction is:0.1996731013059616\nError at the 8 iteraction is:0.1554093062877655\nError at the 9 iteraction is:0.19546520709991455\nError at the 10 iteraction is:0.1619548201560974\nError at the 11 iteraction is:0.16837577521800995\nError at the 12 iteraction is:0.12844212353229523\nError at the 13 iteraction is:0.2233904004096985\nError at the 14 iteraction is:0.17027045786380768\nError at the 15 iteraction is:0.2166374921798706\nError at the 16 iteraction is:0.2034241110086441\nError at the 17 iteraction is:0.13891854882240295\nError at the 18 iteraction is:0.17531612515449524\nError at the 19 iteraction is:0.1581529974937439\nError at the 20 iteraction is:0.25241801142692566\nError at the 21 iteraction is:0.1692895144224167\nError at the 22 iteraction is:0.1700190156698227\nError at the 23 iteraction is:0.19585132598876953\nError at the 24 iteraction is:0.1888810396194458\nError at the 25 iteraction is:0.17789678275585175\nError at the 26 iteraction is:0.2021273672580719\nError at the 27 iteraction is:0.1924205720424652\nError at the 28 iteraction is:0.1929376721382141\nError at the 29 iteraction is:0.184769868850708\nError at the 30 iteraction is:0.15750513970851898\nError at the 31 iteraction is:0.17377610504627228\nError at the 32 iteraction is:0.1606154888868332\nError at the 33 iteraction is:0.16163580119609833\nError at the 34 iteraction is:0.19070912897586823\nError at the 35 iteraction is:0.20949183404445648\nError at the 36 iteraction is:0.16761985421180725\nError at the 37 iteraction is:0.17583820223808289\nError at the 38 iteraction is:0.15944761037826538\nError at the 39 iteraction is:0.2045717090368271\nError at the 40 iteraction is:0.18068432807922363\nError at the 41 iteraction is:0.20274882018566132\nError at the 42 iteraction is:0.21827319264411926\nError at the 43 iteraction is:0.16817282140254974\nError at the 44 iteraction is:0.13812582194805145\nError at the 45 iteraction is:0.20964780449867249\nError at the 46 iteraction is:0.19213546812534332\nError at the 47 iteraction is:0.16564708948135376\nError at the 48 iteraction is:0.1574270874261856\nError at the 49 iteraction is:0.177773118019104\nError at the 50 iteraction is:0.1566668450832367\n"
                }
            ],
            "source": "#Repeat Part B with epochs=100\nerr_list=[]\nfor i in range(0,50):\n    x_train, x_test, y_train, y_test = train_test_split(x, y, test_size=0.3)\n    model=model_setup(10)\n    model.fit(x_train, y_train, validation_data=(x_test, y_test), epochs=100,verbose=0)\n    err=model.evaluate(x_test,y_test,verbose=0)\n    err_list.append(err)\n    print(\"Error at the {} iteraction is:{}\".format(i+1,err))"
        },
        {
            "cell_type": "code",
            "execution_count": 195,
            "metadata": {},
            "outputs": [
                {
                    "name": "stdout",
                    "output_type": "stream",
                    "text": "Mean and Standar Deviation of the Mean Squared Error are: 0.18014837354421614 and 0.024275562697632452\nIncreasing the epoch number we get better results (respect part B)\n"
                }
            ],
            "source": "from statistics import mean,stdev\nprint(\"Mean and Standar Deviation of the Mean Squared Error are:\",mean(err_list),\"and\",stdev(err_list))\nprint(\"Increasing the epoch number we get better results (respect part B)\")"
        },
        {
            "cell_type": "markdown",
            "metadata": {},
            "source": "# Part D"
        },
        {
            "cell_type": "code",
            "execution_count": 196,
            "metadata": {},
            "outputs": [],
            "source": "# Model definition\nn_cols = x.shape[1] # number of predictors\n\ndef model_setup(n_hiden):\n    # create model\n    model = Sequential()\n    model.add(Dense(n_hiden, activation='relu', input_shape=(n_cols,)))\n    model.add(Dense(n_hiden, activation='relu'))\n    model.add(Dense(n_hiden, activation='relu'))\n    model.add(Dense(1))\n    \n    # compile model\n    model.compile(optimizer='adam', loss='mean_squared_error')\n    return model"
        },
        {
            "cell_type": "code",
            "execution_count": 203,
            "metadata": {},
            "outputs": [
                {
                    "name": "stdout",
                    "output_type": "stream",
                    "text": "Error at the 1 iteraction is:0.1992701292037964\nError at the 2 iteraction is:0.20708788931369781\nError at the 3 iteraction is:0.14795705676078796\nError at the 4 iteraction is:0.15238812565803528\nError at the 5 iteraction is:0.14878222346305847\nError at the 6 iteraction is:0.18080103397369385\nError at the 7 iteraction is:0.2138964980840683\nError at the 8 iteraction is:0.1661609709262848\nError at the 9 iteraction is:0.15927375853061676\nError at the 10 iteraction is:0.25470614433288574\nError at the 11 iteraction is:0.17725113034248352\nError at the 12 iteraction is:0.16795814037322998\nError at the 13 iteraction is:0.16265305876731873\nError at the 14 iteraction is:0.19820386171340942\nError at the 15 iteraction is:0.1629251390695572\nError at the 16 iteraction is:0.24664220213890076\nError at the 17 iteraction is:0.1588168442249298\nError at the 18 iteraction is:0.1559898555278778\nError at the 19 iteraction is:0.1810038685798645\nError at the 20 iteraction is:0.1320902556180954\nError at the 21 iteraction is:0.1813008040189743\nError at the 22 iteraction is:0.14880701899528503\nError at the 23 iteraction is:0.15823979675769806\nError at the 24 iteraction is:0.21800149977207184\nError at the 25 iteraction is:0.22160391509532928\nError at the 26 iteraction is:0.20052050054073334\nError at the 27 iteraction is:0.19497518241405487\nError at the 28 iteraction is:0.1670902520418167\nError at the 29 iteraction is:0.22452522814273834\nError at the 30 iteraction is:0.13659124076366425\nError at the 31 iteraction is:0.16236889362335205\nError at the 32 iteraction is:0.19750015437602997\nError at the 33 iteraction is:0.1957077533006668\nError at the 34 iteraction is:0.1953016221523285\nError at the 35 iteraction is:0.17374242842197418\nError at the 36 iteraction is:0.1890116184949875\nError at the 37 iteraction is:0.2627285122871399\nError at the 38 iteraction is:0.15740488469600677\nError at the 39 iteraction is:0.15212538838386536\nError at the 40 iteraction is:0.20379433035850525\nError at the 41 iteraction is:0.14268739521503448\nError at the 42 iteraction is:0.1956275999546051\nError at the 43 iteraction is:0.17299173772335052\nError at the 44 iteraction is:0.17480702698230743\nError at the 45 iteraction is:0.18695108592510223\nError at the 46 iteraction is:0.1930551379919052\nError at the 47 iteraction is:0.2300652265548706\nError at the 48 iteraction is:0.16540521383285522\nError at the 49 iteraction is:0.17857350409030914\nError at the 50 iteraction is:0.2131541669368744\n"
                }
            ],
            "source": "#initialize model\nerr_list=[]\nfor i in range(0,50):\n    x_train, x_test, y_train, y_test = train_test_split(x, y, test_size=0.3)\n    model=model_setup(10)\n    model.fit(x_train, y_train, validation_data=(x_test, y_test), epochs=50,verbose=0)\n    err=model.evaluate(x_test,y_test,verbose=0)\n    err_list.append(err)\n    print(\"Error at the {} iteraction is:{}\".format(i+1,err))"
        },
        {
            "cell_type": "code",
            "execution_count": 204,
            "metadata": {},
            "outputs": [
                {
                    "name": "stdout",
                    "output_type": "stream",
                    "text": "Mean and Standar Deviation of the Mean Squared Error are: 0.18337034612894057 and 0.030122832036990635\nIncreasing the number of hidden layers we get better results (respect part B)\n"
                }
            ],
            "source": "from statistics import mean,stdev\nprint(\"Mean and Standar Deviation of the Mean Squared Error are:\",mean(err_list),\"and\",stdev(err_list))\nprint(\"Increasing the number of hidden layers we get better results (respect part B)\")"
        },
        {
            "cell_type": "code",
            "execution_count": null,
            "metadata": {},
            "outputs": [],
            "source": ""
        }
    ],
    "metadata": {
        "kernelspec": {
            "display_name": "Python 3.8",
            "language": "python",
            "name": "python3"
        },
        "language_info": {
            "codemirror_mode": {
                "name": "ipython",
                "version": 3
            },
            "file_extension": ".py",
            "mimetype": "text/x-python",
            "name": "python",
            "nbconvert_exporter": "python",
            "pygments_lexer": "ipython3",
            "version": "3.8.12"
        }
    },
    "nbformat": 4,
    "nbformat_minor": 1
}